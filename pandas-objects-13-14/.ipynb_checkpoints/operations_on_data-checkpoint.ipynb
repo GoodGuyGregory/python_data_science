{
 "cells": [
  {
   "cell_type": "code",
   "execution_count": null,
   "id": "98c518b8-1c6a-403f-af07-af76db7709e5",
   "metadata": {},
   "outputs": [],
   "source": [
    "# Performing Operations on Data within Pandas"
   ]
  }
 ],
 "metadata": {
  "kernelspec": {
   "display_name": "Python 3 (ipykernel)",
   "language": "python",
   "name": "python3"
  },
  "language_info": {
   "codemirror_mode": {
    "name": "ipython",
    "version": 3
   },
   "file_extension": ".py",
   "mimetype": "text/x-python",
   "name": "python",
   "nbconvert_exporter": "python",
   "pygments_lexer": "ipython3",
   "version": "3.12.3"
  }
 },
 "nbformat": 4,
 "nbformat_minor": 5
}
