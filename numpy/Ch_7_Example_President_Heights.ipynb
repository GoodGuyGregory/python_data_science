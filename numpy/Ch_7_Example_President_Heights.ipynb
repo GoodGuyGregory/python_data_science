{
 "cells": [
  {
   "cell_type": "code",
   "execution_count": 1,
   "id": "fc82d9cd-4294-4119-b1a8-b39d2d04cff1",
   "metadata": {
    "tags": []
   },
   "outputs": [],
   "source": [
    "# Chapter 7 Example: \n",
    "# What is the average height of US Presidents?"
   ]
  },
  {
   "cell_type": "code",
   "execution_count": null,
   "id": "5bfaf991-f348-403b-aba5-0b93898496ad",
   "metadata": {},
   "outputs": [],
   "source": []
  },
  {
   "cell_type": "code",
   "execution_count": null,
   "id": "383e81f1-7d83-4f33-9c3d-9985bee255d0",
   "metadata": {},
   "outputs": [],
   "source": []
  },
  {
   "cell_type": "code",
   "execution_count": null,
   "id": "a5834259-5e6e-47d3-8c56-e8f5e72ea7b0",
   "metadata": {},
   "outputs": [],
   "source": []
  }
 ],
 "metadata": {
  "kernelspec": {
   "display_name": "Python 3 (ipykernel)",
   "language": "python",
   "name": "python3"
  },
  "language_info": {
   "codemirror_mode": {
    "name": "ipython",
    "version": 3
   },
   "file_extension": ".py",
   "mimetype": "text/x-python",
   "name": "python",
   "nbconvert_exporter": "python",
   "pygments_lexer": "ipython3",
   "version": "3.11.4"
  }
 },
 "nbformat": 4,
 "nbformat_minor": 5
}
