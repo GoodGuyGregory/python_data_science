{
 "cells": [
  {
   "cell_type": "code",
   "execution_count": 10,
   "id": "64ed8b90-65c5-4594-97aa-22895ce76f72",
   "metadata": {
    "tags": []
   },
   "outputs": [],
   "source": [
    "# Chapter 5:\n",
    "# Basics of NumpyArrays\n",
    "\n",
    "import numpy as np\n",
    "# consistent random seed for reproducability\n",
    "rng = np.random.default_rng(seed=1701)\n",
    "\n",
    "x1 = rng.integers(10, size=6) # one-dimensional array\n",
    "x2 = rng.integers(10,size=(3, 4)) # two-dimensional array\n",
    "x3 = rng.integers(10, size=(3, 4, 5)) # three-dimensional array"
   ]
  },
  {
   "cell_type": "code",
   "execution_count": 14,
   "id": "1eb01bcf-f4d4-44b0-a8ed-62f30ac55e18",
   "metadata": {
    "tags": []
   },
   "outputs": [
    {
     "data": {
      "text/plain": [
       "9"
      ]
     },
     "execution_count": 14,
     "metadata": {},
     "output_type": "execute_result"
    }
   ],
   "source": [
    "x2[2, -1]"
   ]
  }
 ],
 "metadata": {
  "kernelspec": {
   "display_name": "Python 3 (ipykernel)",
   "language": "python",
   "name": "python3"
  },
  "language_info": {
   "codemirror_mode": {
    "name": "ipython",
    "version": 3
   },
   "file_extension": ".py",
   "mimetype": "text/x-python",
   "name": "python",
   "nbconvert_exporter": "python",
   "pygments_lexer": "ipython3",
   "version": "3.11.4"
  }
 },
 "nbformat": 4,
 "nbformat_minor": 5
}
