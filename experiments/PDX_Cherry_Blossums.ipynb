{
 "cells": [
  {
   "cell_type": "code",
   "execution_count": 1,
   "id": "ed79fde8-a7f6-4fc6-8ce5-c8400340fd32",
   "metadata": {},
   "outputs": [],
   "source": [
    "import numpy as np\n",
    "import pandas as pd\n",
    "import matplotlib.pyplot as plt\n",
    "import seaborn as sns"
   ]
  },
  {
   "cell_type": "code",
   "execution_count": 45,
   "id": "0cbd2193-b750-409a-a9d2-44325b9fb6ea",
   "metadata": {},
   "outputs": [],
   "source": [
    "#  used to pull the main tree inventory data\n",
    "# reads in tree inventory\n",
    "parkTreeInventory = pd.read_csv(\"./data/Parks_Tree_Inventory.csv\")"
   ]
  },
  {
   "cell_type": "code",
   "execution_count": null,
   "id": "08544bda-87b8-47e7-99a5-c718058e1a46",
   "metadata": {},
   "outputs": [],
   "source": [
    "parkTreeInventory.info"
   ]
  },
  {
   "cell_type": "code",
   "execution_count": 21,
   "id": "55f19a03-8ec4-4554-84a9-6c841328cc89",
   "metadata": {},
   "outputs": [],
   "source": [
    "# create function to merge the Park data and Tree invetory \n",
    "# This will merge the parkid onto the propertyid of the tree inventory data\n",
    "# this will create a new park names table\n",
    "def merge_parks_with_tree_inventory():\n",
    "\n",
    "    #  reads in Park Data\n",
    "    pdxParkData = pd.read_csv(\"./data/Parks.csv\")\n",
    "\n",
    "    # reads in tree inventory\n",
    "    parkTreeInventory = pd.read_csv(\"./data/Parks_Tree_Inventory.csv\")\n",
    "    \n",
    "    # pull property id numbers and determine match\n",
    "    treeParks = parkTreeInventory['PropertyID']\n",
    "    #  gets each park id\n",
    "    treeProperties = treeParks.unique()\n",
    "    \n",
    "    unique_properties = pd.DataFrame(treeProperties, columns=['ParkID'])\n",
    "    # calling to string will display all of the available park ids\n",
    "    # print(unique_properties.to_string())\n",
    "    \n",
    "    # drops Nan in row 72\n",
    "    unique_properties = unique_properties.drop([72])\n",
    "    \n",
    "    # print(unique_properties.to_string())\n",
    "    \n",
    "    # type(unique_properties)\n",
    "    # get all of the park names that have been inventoried\n",
    "    parksInventoried = pdxParkData.merge(unique_properties,right_on='ParkID', left_on='PROPERTYID')\n",
    "    # drop the propertyid column\n",
    "    parksInventoried = parksInventoried.drop('PROPERTYID',axis=1)\n",
    "    # print(parksInventoried.to_string())\n",
    "    # return the parksInventoried \n",
    "    return parksInventoried\n",
    "    "
   ]
  },
  {
   "cell_type": "code",
   "execution_count": null,
   "id": "5d8d48ed-cdf6-492c-b172-bb9f7c922a91",
   "metadata": {},
   "outputs": [],
   "source": [
    "# Cherry Lessons:\n",
    "parksInventoried = merge_parks_with_tree_inventory()\n",
    "\n",
    "\n",
    "uniqueTrees = parkTreeInventory['Common_name'].unique().tolist()\n",
    "\n",
    "# print(uniqueTrees)\n",
    "# which park has the most cherry trees?\n",
    "    # to answer this we will need to create a list of all the possible combinations of cherry trees. from the unique list\n",
    "    # this can be done with a custom function to add the elements of the common names to a list.\n",
    "\n",
    "def check_cherry(common_tree_name):\n",
    "    foundCherries = []\n",
    "    for tree in common_tree_name:\n",
    "        if 'cherry' in tree.lower():\n",
    "            print(tree)\n",
    "            foundCherries.append(tree)\n",
    "\n",
    "    if len(foundCherries) > 0:\n",
    "        print(\"found \" + str(len(foundCherries)) + \" cherries.\")\n",
    "    else:\n",
    "        print(\"oddly no cherries found\")\n",
    "    return foundCherries\n",
    "    \n",
    "foundCherries = check_cherry(uniqueTrees)\n",
    "\n",
    "# list all cherry species:\n",
    "print(foundCherries)\n"
   ]
  },
  {
   "cell_type": "code",
   "execution_count": 71,
   "id": "75da6896-ec94-4957-8c31-6c2656acd943",
   "metadata": {},
   "outputs": [
    {
     "name": "stdout",
     "output_type": "stream",
     "text": [
      "['cherry' 'paperbark cherry, birchbark cherry, Tibetan cherry'\n",
      " 'Japanese flowering cherry' 'cornelian cherry' 'bird cherry'\n",
      " \"Sargent's cherry\"]\n"
     ]
    }
   ],
   "source": [
    "# This can be done in one line as follows\n",
    "\n",
    "#  amazing things are possible with the internet\n",
    "# this does a custom query for the types of string values per common name\n",
    "cherrySpecies = parkTreeInventory[parkTreeInventory['Common_name'].str.contains('cherry')]['Common_name'].unique()\n",
    "\n",
    "# determine the index \n",
    "np.where(cherrySpecies == 'English laurel, cherry laurel')[0]\n",
    "# delete the mistaken value\n",
    "cherrySpecies = np.delete(cherrySpecies,4)\n",
    "\n",
    "print(cherrySpecies)\n"
   ]
  },
  {
   "cell_type": "code",
   "execution_count": 74,
   "id": "7e716b0b-b973-4e37-bd45-dea3ad0805d7",
   "metadata": {},
   "outputs": [
    {
     "data": {
      "text/plain": [
       "977"
      ]
     },
     "execution_count": 74,
     "metadata": {},
     "output_type": "execute_result"
    }
   ],
   "source": [
    "# now that we have our cherry trees that exist within the portland parks \n",
    "# we can determine their locations and species details\n",
    "\n",
    "# lets start by querying the parks for cherries we can use the \"is in\" method \n",
    "#  now that we are aware of all the common names for trees\n",
    "cherryTreesFound = parkTreeInventory[parkTreeInventory['Common_name'].isin(cherrySpecies)]\n",
    "\n"
   ]
  },
  {
   "cell_type": "code",
   "execution_count": null,
   "id": "8f03efb1-ca45-4b86-af71-a5b2fc5a3dca",
   "metadata": {},
   "outputs": [],
   "source": [
    "#  determine which of these parks has the most cherries:\n",
    "\n",
    "\n"
   ]
  },
  {
   "cell_type": "code",
   "execution_count": null,
   "id": "8edde8c6-d4a5-4296-b6bb-ab66395e5d65",
   "metadata": {},
   "outputs": [],
   "source": [
    "# EXERCISE to Focus on binning \n",
    "#  for each park we will determine the top 10 highest cherry counts \n",
    "#  to add to must sees during spring\n",
    "\n",
    "# determine per most cherry filled parks which species counts they have\n",
    "#  with binning"
   ]
  },
  {
   "cell_type": "code",
   "execution_count": null,
   "id": "845a6723-1d2f-425c-bb10-c7eb8e9c3d82",
   "metadata": {},
   "outputs": [],
   "source": [
    "#  Bonus where all of the edible cherries are"
   ]
  }
 ],
 "metadata": {
  "kernelspec": {
   "display_name": "Python 3 (ipykernel)",
   "language": "python",
   "name": "python3"
  },
  "language_info": {
   "codemirror_mode": {
    "name": "ipython",
    "version": 3
   },
   "file_extension": ".py",
   "mimetype": "text/x-python",
   "name": "python",
   "nbconvert_exporter": "python",
   "pygments_lexer": "ipython3",
   "version": "3.12.3"
  }
 },
 "nbformat": 4,
 "nbformat_minor": 5
}
