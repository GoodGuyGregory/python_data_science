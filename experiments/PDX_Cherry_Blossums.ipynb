{
 "cells": [
  {
   "cell_type": "code",
   "execution_count": 1,
   "id": "ed79fde8-a7f6-4fc6-8ce5-c8400340fd32",
   "metadata": {},
   "outputs": [],
   "source": [
    "import numpy as np\n",
    "import pandas as pd\n",
    "import matplotlib.pyplot as plt\n",
    "import seaborn as sns"
   ]
  },
  {
   "cell_type": "code",
   "execution_count": 45,
   "id": "0cbd2193-b750-409a-a9d2-44325b9fb6ea",
   "metadata": {},
   "outputs": [],
   "source": [
    "#  used to pull the main tree inventory data\n",
    "# reads in tree inventory\n",
    "parkTreeInventory = pd.read_csv(\"./data/Parks_Tree_Inventory.csv\")"
   ]
  },
  {
   "cell_type": "code",
   "execution_count": null,
   "id": "08544bda-87b8-47e7-99a5-c718058e1a46",
   "metadata": {},
   "outputs": [],
   "source": [
    "parkTreeInventory.info"
   ]
  },
  {
   "cell_type": "code",
   "execution_count": 21,
   "id": "55f19a03-8ec4-4554-84a9-6c841328cc89",
   "metadata": {},
   "outputs": [],
   "source": [
    "# create function to merge the Park data and Tree invetory \n",
    "# This will merge the parkid onto the propertyid of the tree inventory data\n",
    "# this will create a new park names table\n",
    "def merge_parks_with_tree_inventory():\n",
    "\n",
    "    #  reads in Park Data\n",
    "    pdxParkData = pd.read_csv(\"./data/Parks.csv\")\n",
    "\n",
    "    # reads in tree inventory\n",
    "    parkTreeInventory = pd.read_csv(\"./data/Parks_Tree_Inventory.csv\")\n",
    "    \n",
    "    # pull property id numbers and determine match\n",
    "    treeParks = parkTreeInventory['PropertyID']\n",
    "    #  gets each park id\n",
    "    treeProperties = treeParks.unique()\n",
    "    \n",
    "    unique_properties = pd.DataFrame(treeProperties, columns=['ParkID'])\n",
    "    # calling to string will display all of the available park ids\n",
    "    # print(unique_properties.to_string())\n",
    "    \n",
    "    # drops Nan in row 72\n",
    "    unique_properties = unique_properties.drop([72])\n",
    "    \n",
    "    # print(unique_properties.to_string())\n",
    "    \n",
    "    # type(unique_properties)\n",
    "    # get all of the park names that have been inventoried\n",
    "    parksInventoried = pdxParkData.merge(unique_properties,right_on='ParkID', left_on='PROPERTYID')\n",
    "    # drop the propertyid column\n",
    "    parksInventoried = parksInventoried.drop('PROPERTYID',axis=1)\n",
    "    # print(parksInventoried.to_string())\n",
    "    # return the parksInventoried \n",
    "    return parksInventoried\n",
    "    "
   ]
  },
  {
   "cell_type": "code",
   "execution_count": null,
   "id": "5d8d48ed-cdf6-492c-b172-bb9f7c922a91",
   "metadata": {},
   "outputs": [],
   "source": [
    "# Cherry Lessons:\n",
    "parksInventoried = merge_parks_with_tree_inventory()\n",
    "\n",
    "\n",
    "uniqueTrees = parkTreeInventory['Common_name'].unique().tolist()\n",
    "\n",
    "# print(uniqueTrees)\n",
    "# which park has the most cherry trees?\n",
    "    # to answer this we will need to create a list of all the possible combinations of cherry trees. from the unique list\n",
    "    # this can be done with a custom function to add the elements of the common names to a list.\n",
    "\n",
    "def check_cherry(common_tree_name):\n",
    "    foundCherries = []\n",
    "    for tree in common_tree_name:\n",
    "        if 'cherry' in tree.lower():\n",
    "            print(tree)\n",
    "            foundCherries.append(tree)\n",
    "\n",
    "    if len(foundCherries) > 0:\n",
    "        print(\"found \" + str(len(foundCherries)) + \" cherries.\")\n",
    "    else:\n",
    "        print(\"oddly no cherries found\")\n",
    "    return foundCherries\n",
    "    \n",
    "foundCherries = check_cherry(uniqueTrees)\n",
    "\n",
    "# list all cherry species:\n",
    "print(foundCherries)\n"
   ]
  },
  {
   "cell_type": "code",
   "execution_count": 71,
   "id": "75da6896-ec94-4957-8c31-6c2656acd943",
   "metadata": {},
   "outputs": [
    {
     "name": "stdout",
     "output_type": "stream",
     "text": [
      "['cherry' 'paperbark cherry, birchbark cherry, Tibetan cherry'\n",
      " 'Japanese flowering cherry' 'cornelian cherry' 'bird cherry'\n",
      " \"Sargent's cherry\"]\n"
     ]
    }
   ],
   "source": [
    "# This can be done in one line as follows\n",
    "\n",
    "#  amazing things are possible with the internet\n",
    "# this does a custom query for the types of string values per common name\n",
    "cherrySpecies = parkTreeInventory[parkTreeInventory['Common_name'].str.contains('cherry')]['Common_name'].unique()\n",
    "\n",
    "# determine the index \n",
    "np.where(cherrySpecies == 'English laurel, cherry laurel')[0]\n",
    "# delete the mistaken value\n",
    "cherrySpecies = np.delete(cherrySpecies,4)\n",
    "\n",
    "print(cherrySpecies)\n"
   ]
  },
  {
   "cell_type": "code",
   "execution_count": 74,
   "id": "7e716b0b-b973-4e37-bd45-dea3ad0805d7",
   "metadata": {},
   "outputs": [
    {
     "data": {
      "text/plain": [
       "977"
      ]
     },
     "execution_count": 74,
     "metadata": {},
     "output_type": "execute_result"
    }
   ],
   "source": [
    "# now that we have our cherry trees that exist within the portland parks \n",
    "# we can determine their locations and species details\n",
    "\n",
    "# lets start by querying the parks for cherries we can use the \"is in\" method \n",
    "#  now that we are aware of all the common names for trees\n",
    "cherryTreesFound = parkTreeInventory[parkTreeInventory['Common_name'].isin(cherrySpecies)]\n",
    "\n"
   ]
  },
  {
   "cell_type": "code",
   "execution_count": 119,
   "id": "8f03efb1-ca45-4b86-af71-a5b2fc5a3dca",
   "metadata": {},
   "outputs": [
    {
     "name": "stdout",
     "output_type": "stream",
     "text": [
      "PropertyID\n",
      "156.0    105\n",
      "239.0     81\n",
      "245.0     60\n",
      "275.0     48\n",
      "24.0      41\n",
      "Name: count, dtype: int64\n"
     ]
    },
    {
     "data": {
      "text/html": [
       "<div>\n",
       "<style scoped>\n",
       "    .dataframe tbody tr th:only-of-type {\n",
       "        vertical-align: middle;\n",
       "    }\n",
       "\n",
       "    .dataframe tbody tr th {\n",
       "        vertical-align: top;\n",
       "    }\n",
       "\n",
       "    .dataframe thead th {\n",
       "        text-align: right;\n",
       "    }\n",
       "</style>\n",
       "<table border=\"1\" class=\"dataframe\">\n",
       "  <thead>\n",
       "    <tr style=\"text-align: right;\">\n",
       "      <th></th>\n",
       "      <th>NAME</th>\n",
       "      <th>ACRES</th>\n",
       "    </tr>\n",
       "  </thead>\n",
       "  <tbody>\n",
       "    <tr>\n",
       "      <th>15</th>\n",
       "      <td>Council Crest Park</td>\n",
       "      <td>42.950088</td>\n",
       "    </tr>\n",
       "    <tr>\n",
       "      <th>66</th>\n",
       "      <td>Lynchwood Park</td>\n",
       "      <td>8.453903</td>\n",
       "    </tr>\n",
       "    <tr>\n",
       "      <th>75</th>\n",
       "      <td>Mt Tabor Park</td>\n",
       "      <td>176.041832</td>\n",
       "    </tr>\n",
       "    <tr>\n",
       "      <th>133</th>\n",
       "      <td>Lincoln Park</td>\n",
       "      <td>7.060979</td>\n",
       "    </tr>\n",
       "    <tr>\n",
       "      <th>172</th>\n",
       "      <td>Gov Tom McCall Waterfront Park</td>\n",
       "      <td>30.902261</td>\n",
       "    </tr>\n",
       "  </tbody>\n",
       "</table>\n",
       "</div>"
      ],
      "text/plain": [
       "                               NAME       ACRES\n",
       "15               Council Crest Park   42.950088\n",
       "66                   Lynchwood Park    8.453903\n",
       "75                    Mt Tabor Park  176.041832\n",
       "133                    Lincoln Park    7.060979\n",
       "172  Gov Tom McCall Waterfront Park   30.902261"
      ]
     },
     "execution_count": 119,
     "metadata": {},
     "output_type": "execute_result"
    }
   ],
   "source": [
    "#  determine which of these parks has the most cherries:\n",
    "largestCherries = cherryTreesFound['PropertyID'].value_counts().head(5)\n",
    "print(largestCherries)\n",
    "\n",
    "topFiveCherryParkIds = largestCherries.index\n",
    "\n",
    "# topFiveCherryParks = parksInventoried[parksInventoried['ParkID'].isin(topFiveCherryParkIds)]\n",
    "# print('Top 10 Cherry Parks:')\n",
    "topFiveCherryParks[['NAME','ACRES']]"
   ]
  },
  {
   "cell_type": "code",
   "execution_count": 128,
   "id": "e85228ed-59c0-4159-a005-795931c3bfd6",
   "metadata": {},
   "outputs": [
    {
     "name": "stdout",
     "output_type": "stream",
     "text": [
      "   PropertyID  CherryCount\n",
      "0       156.0          105\n",
      "1       239.0           81\n",
      "2       245.0           60\n",
      "3       275.0           48\n",
      "4        24.0           41\n"
     ]
    }
   ],
   "source": [
    "# reset index allows for resetting the name of the cherry counts\n",
    "cherriesPerPark = cherryTreesFound.groupby('PropertyID').size().sort_values(ascending=False)\n",
    "\n",
    "#  gets the ids from seach and ensures the counts match per grouping\n",
    "cherriesPerPark = cherriesPerPark[cherriesPerPark.index.isin(topFiveCherryParkIds)]\n",
    "\n",
    "# reset_index sets the new count to a column within the Series and give it a name Cherry count\n",
    "cherriesPerPark = cherriesPerPark.reset_index(name='CherryCount')\n",
    "print(cherriesPerPark)"
   ]
  },
  {
   "cell_type": "code",
   "execution_count": 149,
   "id": "70927082-4903-43bb-9e02-96617497c96b",
   "metadata": {},
   "outputs": [
    {
     "data": {
      "text/plain": [
       "Text(0.5, 1.0, 'Cherry Trees Per Park')"
      ]
     },
     "execution_count": 149,
     "metadata": {},
     "output_type": "execute_result"
    },
    {
     "data": {
      "image/png": "[encoded data removed]",
      "text/plain": [
       "<Figure size 640x480 with 1 Axes>"
      ]
     },
     "metadata": {},
     "output_type": "display_data"
    }
   ],
   "source": [
    "# Goals here:\n",
    "\n",
    "#  for each park we will determine the top 5 highest cherry counts \n",
    "#  to add to must sees during spring\n",
    "\n",
    "# Now we need to merge the cherries per park to obtain the park name\n",
    "merged_df = pd.merge(cherriesPerPark, parksInventoried, left_on='PropertyID', right_on='ParkID', how='left')[['NAME','CherryCount']]\n",
    "foundTreesPerPark = merged_df\n",
    "\n",
    "# plot the counts per park\n",
    "sns.barplot(y=foundTreesPerPark['CherryCount'],x=foundTreesPerPark['NAME'], orient='v',color='hotpink')\n",
    "for index, value in enumerate(foundTreesPerPark['CherryCount']):\n",
    "    plt.text(index, value + 4, str(value), ha='center', va='bottom')\n",
    "plt.ylim(0, 150)\n",
    "plt.xticks(rotation=90)\n",
    "plt.title('Cherry Trees Per Park')\n",
    "\n"
   ]
  },
  {
   "cell_type": "code",
   "execution_count": 164,
   "id": "1507c6f3-86cb-43b4-baee-c5d7b68db919",
   "metadata": {},
   "outputs": [
    {
     "data": {
      "text/html": [
       "<div>\n",
       "<style scoped>\n",
       "    .dataframe tbody tr th:only-of-type {\n",
       "        vertical-align: middle;\n",
       "    }\n",
       "\n",
       "    .dataframe tbody tr th {\n",
       "        vertical-align: top;\n",
       "    }\n",
       "\n",
       "    .dataframe thead th {\n",
       "        text-align: right;\n",
       "    }\n",
       "</style>\n",
       "<table border=\"1\" class=\"dataframe\">\n",
       "  <thead>\n",
       "    <tr style=\"text-align: right;\">\n",
       "      <th></th>\n",
       "      <th>OBJECTID</th>\n",
       "      <th>NAME</th>\n",
       "      <th>ACRES</th>\n",
       "      <th>Shape_Length</th>\n",
       "      <th>Shape_Area</th>\n",
       "      <th>ParkID</th>\n",
       "    </tr>\n",
       "  </thead>\n",
       "  <tbody>\n",
       "    <tr>\n",
       "      <th>15</th>\n",
       "      <td>23</td>\n",
       "      <td>Council Crest Park</td>\n",
       "      <td>42.950088</td>\n",
       "      <td>4093.560544</td>\n",
       "      <td>3.538116e+05</td>\n",
       "      <td>24.0</td>\n",
       "    </tr>\n",
       "    <tr>\n",
       "      <th>66</th>\n",
       "      <td>95</td>\n",
       "      <td>Lynchwood Park</td>\n",
       "      <td>8.453903</td>\n",
       "      <td>1094.963716</td>\n",
       "      <td>6.963979e+04</td>\n",
       "      <td>245.0</td>\n",
       "    </tr>\n",
       "    <tr>\n",
       "      <th>75</th>\n",
       "      <td>106</td>\n",
       "      <td>Mt Tabor Park</td>\n",
       "      <td>176.041832</td>\n",
       "      <td>6325.559267</td>\n",
       "      <td>1.450839e+06</td>\n",
       "      <td>275.0</td>\n",
       "    </tr>\n",
       "    <tr>\n",
       "      <th>133</th>\n",
       "      <td>207</td>\n",
       "      <td>Lincoln Park</td>\n",
       "      <td>7.060979</td>\n",
       "      <td>973.865266</td>\n",
       "      <td>5.818820e+04</td>\n",
       "      <td>239.0</td>\n",
       "    </tr>\n",
       "    <tr>\n",
       "      <th>172</th>\n",
       "      <td>303</td>\n",
       "      <td>Gov Tom McCall Waterfront Park</td>\n",
       "      <td>30.902261</td>\n",
       "      <td>7718.777952</td>\n",
       "      <td>2.819811e+05</td>\n",
       "      <td>156.0</td>\n",
       "    </tr>\n",
       "  </tbody>\n",
       "</table>\n",
       "</div>"
      ],
      "text/plain": [
       "     OBJECTID                            NAME       ACRES  Shape_Length  \\\n",
       "15         23              Council Crest Park   42.950088   4093.560544   \n",
       "66         95                  Lynchwood Park    8.453903   1094.963716   \n",
       "75        106                   Mt Tabor Park  176.041832   6325.559267   \n",
       "133       207                    Lincoln Park    7.060979    973.865266   \n",
       "172       303  Gov Tom McCall Waterfront Park   30.902261   7718.777952   \n",
       "\n",
       "       Shape_Area  ParkID  \n",
       "15   3.538116e+05    24.0  \n",
       "66   6.963979e+04   245.0  \n",
       "75   1.450839e+06   275.0  \n",
       "133  5.818820e+04   239.0  \n",
       "172  2.819811e+05   156.0  "
      ]
     },
     "execution_count": 164,
     "metadata": {},
     "output_type": "execute_result"
    }
   ],
   "source": [
    "# EXERCISE to focus on binning for each of these parks\n",
    "\n",
    "# first we will show the counts for each five parks then explore heights \n",
    "#  each of these prominent tree species\n",
    "\n",
    "# let's determine the IDS for these parks again and being our search queries\n",
    "\n",
    "topFiveCherryParks = parksInventoried[parksInventoried['ParkID'].isin(topFiveCherryParkIds)]\n",
    "\n",
    "topFiveCherryParks\n"
   ]
  },
  {
   "cell_type": "code",
   "execution_count": null,
   "id": "38b14450-eaa7-451a-8774-4ec15b54c87f",
   "metadata": {},
   "outputs": [],
   "source": [
    "#  First up is Tom McCall Waterfront Park"
   ]
  },
  {
   "cell_type": "code",
   "execution_count": null,
   "id": "845a6723-1d2f-425c-bb10-c7eb8e9c3d82",
   "metadata": {},
   "outputs": [],
   "source": [
    "#  Bonus where all of the edible cherries are"
   ]
  }
 ],
 "metadata": {
  "kernelspec": {
   "display_name": "Python 3 (ipykernel)",
   "language": "python",
   "name": "python3"
  },
  "language_info": {
   "codemirror_mode": {
    "name": "ipython",
    "version": 3
   },
   "file_extension": ".py",
   "mimetype": "text/x-python",
   "name": "python",
   "nbconvert_exporter": "python",
   "pygments_lexer": "ipython3",
   "version": "3.12.3"
  }
 },
 "nbformat": 4,
 "nbformat_minor": 5
}
