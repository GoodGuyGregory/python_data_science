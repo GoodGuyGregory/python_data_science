{
 "cells": [
  {
   "cell_type": "code",
   "execution_count": 1,
   "id": "757889fb-2a88-4089-a80d-7ca05f85bb6a",
   "metadata": {},
   "outputs": [],
   "source": [
    "import pandas as pd"
   ]
  },
  {
   "cell_type": "code",
   "execution_count": 12,
   "id": "b8c97ddb-1d6d-450c-acab-ff42961f796f",
   "metadata": {},
   "outputs": [
    {
     "data": {
      "text/html": [
       "<div>\n",
       "<style scoped>\n",
       "    .dataframe tbody tr th:only-of-type {\n",
       "        vertical-align: middle;\n",
       "    }\n",
       "\n",
       "    .dataframe tbody tr th {\n",
       "        vertical-align: top;\n",
       "    }\n",
       "\n",
       "    .dataframe thead th {\n",
       "        text-align: right;\n",
       "    }\n",
       "</style>\n",
       "<table border=\"1\" class=\"dataframe\">\n",
       "  <thead>\n",
       "    <tr style=\"text-align: right;\">\n",
       "      <th></th>\n",
       "      <th>PROPERTYID</th>\n",
       "      <th>NAME</th>\n",
       "      <th>ACRES</th>\n",
       "      <th>Shape_Length</th>\n",
       "      <th>Shape_Area</th>\n",
       "    </tr>\n",
       "  </thead>\n",
       "  <tbody>\n",
       "    <tr>\n",
       "      <th>0</th>\n",
       "      <td>48</td>\n",
       "      <td>Albert Kelly Park</td>\n",
       "      <td>12.086152</td>\n",
       "      <td>1439.252170</td>\n",
       "      <td>99517.684997</td>\n",
       "    </tr>\n",
       "    <tr>\n",
       "      <th>1</th>\n",
       "      <td>49</td>\n",
       "      <td>Alberta Park</td>\n",
       "      <td>16.403797</td>\n",
       "      <td>1597.320137</td>\n",
       "      <td>135441.949786</td>\n",
       "    </tr>\n",
       "    <tr>\n",
       "      <th>2</th>\n",
       "      <td>51</td>\n",
       "      <td>April Hill Park</td>\n",
       "      <td>10.122265</td>\n",
       "      <td>1454.650781</td>\n",
       "      <td>83301.344632</td>\n",
       "    </tr>\n",
       "    <tr>\n",
       "      <th>3</th>\n",
       "      <td>52</td>\n",
       "      <td>Arbor Lodge Park</td>\n",
       "      <td>8.691468</td>\n",
       "      <td>1089.424844</td>\n",
       "      <td>71783.775744</td>\n",
       "    </tr>\n",
       "    <tr>\n",
       "      <th>4</th>\n",
       "      <td>53</td>\n",
       "      <td>Argay Park</td>\n",
       "      <td>8.928252</td>\n",
       "      <td>1172.208302</td>\n",
       "      <td>73684.911851</td>\n",
       "    </tr>\n",
       "  </tbody>\n",
       "</table>\n",
       "</div>"
      ],
      "text/plain": [
       "   PROPERTYID               NAME      ACRES  Shape_Length     Shape_Area\n",
       "0          48  Albert Kelly Park  12.086152   1439.252170   99517.684997\n",
       "1          49       Alberta Park  16.403797   1597.320137  135441.949786\n",
       "2          51    April Hill Park  10.122265   1454.650781   83301.344632\n",
       "3          52   Arbor Lodge Park   8.691468   1089.424844   71783.775744\n",
       "4          53         Argay Park   8.928252   1172.208302   73684.911851"
      ]
     },
     "execution_count": 12,
     "metadata": {},
     "output_type": "execute_result"
    }
   ],
   "source": [
    "parksData = pd.read_csv('./data/Parks.csv')\n",
    "\n",
    "parksData = parksData[['PROPERTYID','NAME','ACRES','Shape_Length','Shape_Area']]\n",
    "parksData.head()"
   ]
  },
  {
   "cell_type": "code",
   "execution_count": 13,
   "id": "77bc8910-9448-4d99-98fa-2b5249ddbded",
   "metadata": {},
   "outputs": [],
   "source": [
    "# export to CSV\n",
    "parksData.to_csv('parks.csv',index=False)"
   ]
  },
  {
   "cell_type": "code",
   "execution_count": 20,
   "id": "b41d5bdc-c795-41f1-9395-de184de2c8f3",
   "metadata": {},
   "outputs": [
    {
     "name": "stdout",
     "output_type": "stream",
     "text": [
      "<class 'pandas.core.frame.DataFrame'>\n",
      "RangeIndex: 25740 entries, 0 to 25739\n",
      "Data columns (total 42 columns):\n",
      " #   Column                      Non-Null Count  Dtype  \n",
      "---  ------                      --------------  -----  \n",
      " 0   X                           25740 non-null  float64\n",
      " 1   Y                           25740 non-null  float64\n",
      " 2   OBJECTID                    25740 non-null  int64  \n",
      " 3   Inventory_Date              25740 non-null  object \n",
      " 4   Species                     25740 non-null  object \n",
      " 5   DBH                         25740 non-null  float64\n",
      " 6   Condition                   25740 non-null  object \n",
      " 7   TreeHeight                  25739 non-null  float64\n",
      " 8   CrownWidthNS                25477 non-null  float64\n",
      " 9   CrownWidthEW                25477 non-null  float64\n",
      " 10  CollectedBy                 25735 non-null  object \n",
      " 11  Notes                       617 non-null    object \n",
      " 12  CrownBaseHeight             25477 non-null  float64\n",
      " 13  GlobalID                    25740 non-null  object \n",
      " 14  StaffReview                 5028 non-null   object \n",
      " 15  created_user                25740 non-null  object \n",
      " 16  created_date                25740 non-null  object \n",
      " 17  last_edited_user            25740 non-null  object \n",
      " 18  last_edited_date            25740 non-null  object \n",
      " 19  UserID                      25533 non-null  float64\n",
      " 20  Structural_Value            25484 non-null  float64\n",
      " 21  Carbon_Storage_lb           25484 non-null  float64\n",
      " 22  Carbon_Storage_value        25484 non-null  float64\n",
      " 23  Carbon_Sequestration_lb     25484 non-null  float64\n",
      " 24  Carbon_Sequestration_value  25484 non-null  float64\n",
      " 25  Stormwater_ft               25484 non-null  float64\n",
      " 26  Stormwater_value            25484 non-null  float64\n",
      " 27  Pollution_Removal_value     25484 non-null  float64\n",
      " 28  Pollution_Removal_oz        25484 non-null  float64\n",
      " 29  Total_Annual_Benefits       25484 non-null  float64\n",
      " 30  Family                      25740 non-null  object \n",
      " 31  Genus                       25740 non-null  object \n",
      " 32  Common_name                 25740 non-null  object \n",
      " 33  Genus_species               25740 non-null  object \n",
      " 34  Functional_type             25476 non-null  object \n",
      " 35  Size                        25476 non-null  object \n",
      " 36  Native                      25306 non-null  object \n",
      " 37  Edible                      1328 non-null   object \n",
      " 38  Nuisance                    2777 non-null   object \n",
      " 39  Origin                      23533 non-null  object \n",
      " 40  Species_factoid             24107 non-null  object \n",
      " 41  PropertyID                  25694 non-null  float64\n",
      "dtypes: float64(19), int64(1), object(22)\n",
      "memory usage: 8.2+ MB\n"
     ]
    }
   ],
   "source": [
    "treeData = pd.read_csv('./data/Parks_Tree_Inventory.csv')\n",
    "\n",
    "treeData.info()"
   ]
  },
  {
   "cell_type": "code",
   "execution_count": 31,
   "id": "5cb27d83-9b28-44d1-b6dd-d5566427b4bd",
   "metadata": {},
   "outputs": [],
   "source": [
    "treeData = treeData[['OBJECTID','Inventory_Date','Family','Genus','Common_name','Genus_species','TreeHeight','Native','Edible','PropertyID','Carbon_Storage_lb','Carbon_Storage_value','Carbon_Sequestration_lb','Carbon_Sequestration_value','Pollution_Removal_value','Pollution_Removal_oz']]\n",
    "treeData.head()\n",
    "treeData.to_csv('treeData.csv',index=False)"
   ]
  }
 ],
 "metadata": {
  "kernelspec": {
   "display_name": "Python 3 (ipykernel)",
   "language": "python",
   "name": "python3"
  },
  "language_info": {
   "codemirror_mode": {
    "name": "ipython",
    "version": 3
   },
   "file_extension": ".py",
   "mimetype": "text/x-python",
   "name": "python",
   "nbconvert_exporter": "python",
   "pygments_lexer": "ipython3",
   "version": "3.12.3"
  }
 },
 "nbformat": 4,
 "nbformat_minor": 5
}
