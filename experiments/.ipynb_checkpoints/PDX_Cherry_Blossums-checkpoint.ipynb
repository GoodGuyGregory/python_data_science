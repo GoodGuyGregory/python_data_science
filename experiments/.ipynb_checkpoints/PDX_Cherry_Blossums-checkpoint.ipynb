{
 "cells": [
  {
   "cell_type": "code",
   "execution_count": 1,
   "id": "ed79fde8-a7f6-4fc6-8ce5-c8400340fd32",
   "metadata": {},
   "outputs": [],
   "source": [
    "import numpy as np\n",
    "import pandas as pd\n",
    "import matplotlib.pyplot as plt\n",
    "import seaborn as sns"
   ]
  },
  {
   "cell_type": "code",
   "execution_count": null,
   "id": "5d8d48ed-cdf6-492c-b172-bb9f7c922a91",
   "metadata": {},
   "outputs": [],
   "source": [
    "# Cherry Lessons:\n",
    "\n",
    "# EXERCISE to Focus on binning \n",
    "\n",
    "# which park has the most cherry trees?\n",
    "\n",
    "\n",
    "# which park has the most big leaf maples?\n",
    "\n",
    "    # where is the tallest?      \n"
   ]
  }
 ],
 "metadata": {
  "kernelspec": {
   "display_name": "Python 3 (ipykernel)",
   "language": "python",
   "name": "python3"
  },
  "language_info": {
   "codemirror_mode": {
    "name": "ipython",
    "version": 3
   },
   "file_extension": ".py",
   "mimetype": "text/x-python",
   "name": "python",
   "nbconvert_exporter": "python",
   "pygments_lexer": "ipython3",
   "version": "3.12.3"
  }
 },
 "nbformat": 4,
 "nbformat_minor": 5
}
